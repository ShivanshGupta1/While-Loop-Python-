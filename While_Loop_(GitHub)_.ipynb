{
  "nbformat": 4,
  "nbformat_minor": 0,
  "metadata": {
    "colab": {
      "name": "While Loop (GitHub) .ipynb",
      "provenance": [],
      "authorship_tag": "ABX9TyMlwMGBSZ8RcobDotmcmiSe",
      "include_colab_link": true
    },
    "kernelspec": {
      "name": "python3",
      "display_name": "Python 3"
    }
  },
  "cells": [
    {
      "cell_type": "markdown",
      "metadata": {
        "id": "view-in-github",
        "colab_type": "text"
      },
      "source": [
        "<a href=\"https://colab.research.google.com/github/ShivanshGupta1/While-Loop-Python-/blob/main/While_Loop_(GitHub)_.ipynb\" target=\"_parent\"><img src=\"https://colab.research.google.com/assets/colab-badge.svg\" alt=\"Open In Colab\"/></a>"
      ]
    },
    {
      "cell_type": "code",
      "metadata": {
        "id": "caA7NnTkVPMP"
      },
      "source": [
        "#while loop\n",
        "#while loop syntax - \n",
        "#while condition:\n",
        "#Statements\n",
        "i = 0\n",
        "while i <= 20:\n",
        "  print(i)\n",
        "  i = i +1"
      ],
      "execution_count": null,
      "outputs": []
    },
    {
      "cell_type": "code",
      "metadata": {
        "id": "gOghDSm7VWwj"
      },
      "source": [
        "#infinite loop\n",
        "i = 0\n",
        "while True:\n",
        "  i = i + 1\n",
        "  if i > 10:\n",
        "    break\n",
        "  print(i)\n",
        "  "
      ],
      "execution_count": null,
      "outputs": []
    },
    {
      "cell_type": "code",
      "metadata": {
        "id": "1Y5-KkApVYA6"
      },
      "source": [
        "i = 0\n",
        "while True:\n",
        "  i = i + 1\n",
        "  if i >50:\n",
        "    break\n",
        "  print(i)"
      ],
      "execution_count": null,
      "outputs": []
    }
  ]
}